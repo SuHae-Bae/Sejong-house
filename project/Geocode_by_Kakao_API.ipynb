{
 "cells": [
  {
   "cell_type": "code",
   "execution_count": null,
   "metadata": {},
   "outputs": [],
   "source": [
    "# QGIS 분석을 위한 위도경도 추출 코드(카카오 API 활용)"
   ]
  },
  {
   "cell_type": "code",
   "execution_count": 1,
   "metadata": {},
   "outputs": [],
   "source": [
    "# 필요한 패키지 로드\n",
    "import pandas as pd\n",
    "import numpy as np\n",
    "import json\n",
    "import requests"
   ]
  },
  {
   "cell_type": "code",
   "execution_count": 41,
   "metadata": {},
   "outputs": [],
   "source": [
    "## csv파일 열기 (encoding 옵션은 종류에 따라 수정)\n",
    "file = pd.read_csv('../data/10.세종시_오피스텔(전월세)_실거래가_주소.csv', encoding = 'utf-8')"
   ]
  },
  {
   "cell_type": "code",
   "execution_count": 44,
   "metadata": {},
   "outputs": [
    {
     "name": "stdout",
     "output_type": "stream",
     "text": [
      "{'documents': [{'address': {'address_name': '세종특별자치시 보람동 743', 'b_code': '3611010300', 'h_code': '3611056000', 'main_address_no': '743', 'mountain_yn': 'N', 'region_1depth_name': '세종특별자치시', 'region_2depth_name': '', 'region_3depth_h_name': '보람동', 'region_3depth_name': '보람동', 'sub_address_no': '', 'x': '127.28911728793', 'y': '36.4783430775605'}, 'address_name': '세종특별자치시 보람동 743', 'address_type': 'REGION_ADDR', 'road_address': {'address_name': '세종특별자치시 한누리대로 2135', 'building_name': '스타힐타워Ⅰ', 'main_building_no': '2135', 'region_1depth_name': '세종특별자치시', 'region_2depth_name': '', 'region_3depth_name': '보람동', 'road_name': '한누리대로', 'sub_building_no': '', 'underground_yn': 'N', 'x': '127.289160385804', 'y': '36.4783499120552', 'zone_no': '30150'}, 'x': '127.28911728793', 'y': '36.4783430775605'}], 'meta': {'is_end': True, 'pageable_count': 1, 'total_count': 1}}\n"
     ]
    }
   ],
   "source": [
    "addr = '세종특별자치시 보람동 743'\n",
    "url='https://dapi.kakao.com/v2/local/search/address.json?query=' + addr\n",
    "headers = {\"Authorization\": \"KakaoAK 057873079626a592436710b8c7b612e8\"}\n",
    "result = json.loads(str(requests.get(url, headers=headers).text))\n",
    "# match_first = result['documents'][0]['x']\n",
    "\n",
    "print(result)\n",
    "# print(match_first)"
   ]
  },
  {
   "cell_type": "code",
   "execution_count": 45,
   "metadata": {},
   "outputs": [
    {
     "name": "stdout",
     "output_type": "stream",
     "text": [
      "0 rows done\n"
     ]
    },
    {
     "name": "stderr",
     "output_type": "stream",
     "text": [
      "<ipython-input-45-5f59f2514b05>:18: SettingWithCopyWarning: \n",
      "A value is trying to be set on a copy of a slice from a DataFrame\n",
      "\n",
      "See the caveats in the documentation: https://pandas.pydata.org/pandas-docs/stable/user_guide/indexing.html#returning-a-view-versus-a-copy\n",
      "  file['위도'][i] = match_first['y']\n",
      "<ipython-input-45-5f59f2514b05>:19: SettingWithCopyWarning: \n",
      "A value is trying to be set on a copy of a slice from a DataFrame\n",
      "\n",
      "See the caveats in the documentation: https://pandas.pydata.org/pandas-docs/stable/user_guide/indexing.html#returning-a-view-versus-a-copy\n",
      "  file['경도'][i] = match_first['x']\n"
     ]
    },
    {
     "name": "stdout",
     "output_type": "stream",
     "text": [
      "500 rows done\n",
      "1000 rows done\n"
     ]
    }
   ],
   "source": [
    "# 만약 찾지 못할 경우, 이전 위경도로 저장되므로 중복처리 한번 해줘야 함\n",
    "\n",
    "for i in range(len(file)):\n",
    "    # ---이부분은 생략가능(얼마나 진행됬는지 확인)---\n",
    "    if (i%500 == 0):\n",
    "        print(str(i)+\" rows done\")\n",
    "    # ------------------------------------------------\n",
    "    try:\n",
    "        match_first= {'x': 0, 'y': 0}\n",
    "        addr = file['주소'][i]\n",
    "        url='https://dapi.kakao.com/v2/local/search/address.json?query=' + addr\n",
    "        headers = {\"Authorization\": \"KakaoAK 057873079626a592436710b8c7b612e8\"}\n",
    "        result = json.loads(str(requests.get(url, headers=headers).text))\n",
    "        match_first = result['documents'][0]['address']\n",
    "        \n",
    "\n",
    "        ## 데이터 추가\n",
    "        file['위도'][i] = match_first['y']\n",
    "        file['경도'][i] = match_first['x']\n",
    "        \n",
    "#     except IndexError:\n",
    "#         pass\n",
    "    \n",
    "#     except JSONDecodeError:\n",
    "#         pass \n",
    "    \n",
    "    except Exception as ex:\n",
    "        pass"
   ]
  },
  {
   "cell_type": "code",
   "execution_count": 47,
   "metadata": {},
   "outputs": [],
   "source": [
    "file.to_csv(\"주소변환_오피스텔전월세.csv\", encoding = \"utf-8\")"
   ]
  }
 ],
 "metadata": {
  "kernelspec": {
   "display_name": "Python 3",
   "language": "python",
   "name": "python3"
  },
  "language_info": {
   "codemirror_mode": {
    "name": "ipython",
    "version": 3
   },
   "file_extension": ".py",
   "mimetype": "text/x-python",
   "name": "python",
   "nbconvert_exporter": "python",
   "pygments_lexer": "ipython3",
   "version": "3.9.2"
  }
 },
 "nbformat": 4,
 "nbformat_minor": 4
}
